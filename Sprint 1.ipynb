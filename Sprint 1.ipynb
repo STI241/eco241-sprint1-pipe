{
 "cells": [
  {
   "cell_type": "code",
   "execution_count": 11,
   "id": "d9f37dce",
   "metadata": {},
   "outputs": [
    {
     "data": {
      "text/html": [
       "<div>\n",
       "<style scoped>\n",
       "    .dataframe tbody tr th:only-of-type {\n",
       "        vertical-align: middle;\n",
       "    }\n",
       "\n",
       "    .dataframe tbody tr th {\n",
       "        vertical-align: top;\n",
       "    }\n",
       "\n",
       "    .dataframe thead th {\n",
       "        text-align: right;\n",
       "    }\n",
       "</style>\n",
       "<table border=\"1\" class=\"dataframe\">\n",
       "  <thead>\n",
       "    <tr style=\"text-align: right;\">\n",
       "      <th></th>\n",
       "      <th>Nombre</th>\n",
       "      <th>Edad</th>\n",
       "      <th>Estatura</th>\n",
       "    </tr>\n",
       "  </thead>\n",
       "  <tbody>\n",
       "    <tr>\n",
       "      <th>0</th>\n",
       "      <td>Juan</td>\n",
       "      <td>25</td>\n",
       "      <td>170</td>\n",
       "    </tr>\n",
       "    <tr>\n",
       "      <th>1</th>\n",
       "      <td>María</td>\n",
       "      <td>30</td>\n",
       "      <td>160</td>\n",
       "    </tr>\n",
       "    <tr>\n",
       "      <th>2</th>\n",
       "      <td>Carlos</td>\n",
       "      <td>35</td>\n",
       "      <td>180</td>\n",
       "    </tr>\n",
       "  </tbody>\n",
       "</table>\n",
       "</div>"
      ],
      "text/plain": [
       "   Nombre  Edad  Estatura\n",
       "0    Juan    25       170\n",
       "1   María    30       160\n",
       "2  Carlos    35       180"
      ]
     },
     "execution_count": 11,
     "metadata": {},
     "output_type": "execute_result"
    }
   ],
   "source": [
    "import pandas as pd\n",
    "\n",
    "# Revisar errores en la última linea\n",
    "users = pd.read_csv('Data.csv', encoding='latin-1', sep=';')\n",
    "users.head()"
   ]
  },
  {
   "cell_type": "code",
   "execution_count": 32,
   "id": "a094b634",
   "metadata": {},
   "outputs": [
    {
     "name": "stdout",
     "output_type": "stream",
     "text": [
      "   Nombre  Edad  Estatura\n",
      "2  Carlos    35       180\n",
      "0    Juan    25       170\n",
      "1   María    30       160\n"
     ]
    }
   ],
   "source": [
    "Ascendente = True\n",
    "Descendente = False\n",
    "Edad = 'Edad'\n",
    "Estatura = 'Estatura'\n",
    "users_sorted = users.sort_values(by=Categoría, ascending=Orden)"
   ]
  },
  {
   "cell_type": "code",
   "execution_count": 34,
   "id": "e68d944f",
   "metadata": {},
   "outputs": [
    {
     "name": "stdout",
     "output_type": "stream",
     "text": [
      "   Nombre  Edad  Estatura\n",
      "2  Carlos    35       180\n",
      "0    Juan    25       170\n",
      "1   María    30       160\n"
     ]
    }
   ],
   "source": [
    "# ToDo: Buscar como agregar inputs\n",
    "Categoría = Edad\n",
    "Orden= Ascendente\n",
    "print(users_sorted)"
   ]
  },
  {
   "cell_type": "code",
   "execution_count": null,
   "id": "788248e4",
   "metadata": {},
   "outputs": [],
   "source": []
  },
  {
   "cell_type": "code",
   "execution_count": null,
   "id": "eff7d208",
   "metadata": {},
   "outputs": [],
   "source": []
  }
 ],
 "metadata": {
  "kernelspec": {
   "display_name": "Python 3 (ipykernel)",
   "language": "python",
   "name": "python3"
  },
  "language_info": {
   "codemirror_mode": {
    "name": "ipython",
    "version": 3
   },
   "file_extension": ".py",
   "mimetype": "text/x-python",
   "name": "python",
   "nbconvert_exporter": "python",
   "pygments_lexer": "ipython3",
   "version": "3.11.5"
  }
 },
 "nbformat": 4,
 "nbformat_minor": 5
}
